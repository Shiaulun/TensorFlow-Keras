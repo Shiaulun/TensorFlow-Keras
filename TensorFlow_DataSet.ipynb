{
 "cells": [
  {
   "cell_type": "code",
   "execution_count": 1,
   "metadata": {},
   "outputs": [
    {
     "name": "stderr",
     "output_type": "stream",
     "text": [
      "Using TensorFlow backend.\n"
     ]
    }
   ],
   "source": [
    "#KERAS\n",
    "from keras.models import Sequential\n",
    "from keras.layers.core import Dense, Dropout, Activation, Flatten\n",
    "from keras.layers.convolutional import Conv2D, MaxPooling2D\n",
    "from keras.optimizers import SGD,RMSprop,adam\n",
    "from keras.utils import np_utils"
   ]
  },
  {
   "cell_type": "code",
   "execution_count": 2,
   "metadata": {
    "collapsed": true
   },
   "outputs": [],
   "source": [
    "import numpy as np\n",
    "import matplotlib.pyplot as plt\n",
    "import matplotlib\n",
    "import os"
   ]
  },
  {
   "cell_type": "code",
   "execution_count": 9,
   "metadata": {},
   "outputs": [],
   "source": [
    "import theano\n",
    "from PIL import Image\n",
    "from numpy import *\n",
    "# SKLEARN\n",
    "from sklearn.utils import shuffle\n",
    "from sklearn.cross_validation import train_test_split"
   ]
  },
  {
   "cell_type": "code",
   "execution_count": 77,
   "metadata": {},
   "outputs": [
    {
     "name": "stdout",
     "output_type": "stream",
     "text": [
      "4479\n"
     ]
    }
   ],
   "source": [
    "# input image dimensions\n",
    "img_rows, img_cols = 128,128\n",
    "\n",
    "# number of channels\n",
    "img_channels = 1\n",
    "\n",
    "#%%\n",
    "#  data\n",
    "\n",
    "path1 = 'D:/Dataset/test/input_data'    #path of folder of images    \n",
    "path2 = 'D:/Dataset/test/input_data_resized'  #path of folder to save images    \n",
    "\n",
    "listing = os.listdir(path1) \n",
    "num_samples=size(listing)\n",
    "print (num_samples)\n",
    "\n",
    "for file in listing:\n",
    "    im = Image.open(path1 + '/' + file)   \n",
    "    img = im.resize((img_rows,img_cols))\n",
    "    gray = img.convert('RGBA') #L為灰階\n",
    "                #need to do some more processing here           \n",
    "    gray.save(path2 +'/' +  file, \"JPEG\")\n",
    "\n",
    "imlist = os.listdir(path2)\n",
    "\n",
    "im1 = array(Image.open(path2 + '/'+ imlist[0])) # open one image to get size\n",
    "\n",
    "m,n = im1.shape[0:2] # get the size of the images\n",
    "imnbr = len(imlist) # get the number of images"
   ]
  },
  {
   "cell_type": "code",
   "execution_count": 50,
   "metadata": {},
   "outputs": [],
   "source": [
    "# create matrix to store all flattened images\n",
    "immatrix = array([array(Image.open(path2+ '/' + im2)).flatten()\n",
    "              for im2 in imlist],'f')\n",
    "             \n",
    "label=np.ones((num_samples,),dtype = int)\n",
    "label[0:800]=0\n",
    "label[800:1600]=1\n",
    "label[1600:2400]=2\n",
    "label[2400:2879]=3\n",
    "label[2879:3679]=4\n",
    "label[3679:4479]=5"
   ]
  },
  {
   "cell_type": "code",
   "execution_count": 51,
   "metadata": {},
   "outputs": [],
   "source": [
    "data,Label = shuffle(immatrix,label, random_state=2)\n",
    "train_data = [data,Label]\n",
    "img=immatrix[0].reshape(img_rows,img_cols,3)\n",
    "# # plt.imshow(img)\n",
    "# # plt.imshow(img ,cmap='gray')\n",
    "# print (train_data[0].shape)\n",
    "# print (train_data[1].shape)"
   ]
  },
  {
   "cell_type": "code",
   "execution_count": 44,
   "metadata": {},
   "outputs": [
    {
     "data": {
      "text/plain": [
       "array([[ 198.,  200.,  225., ...,  113.,  113.,  113.],\n",
       "       [ 251.,  252.,  254., ...,   47.,   53.,   53.],\n",
       "       [ 255.,  253.,  255., ...,  127.,  139.,  129.],\n",
       "       ..., \n",
       "       [   3.,    0.,    0., ...,    0.,    2.,   16.],\n",
       "       [   0.,   22.,   36., ...,    8.,   37.,   45.],\n",
       "       [  11.,    3.,    0., ...,    5.,    7.,    6.]], dtype=float32)"
      ]
     },
     "execution_count": 44,
     "metadata": {},
     "output_type": "execute_result"
    }
   ],
   "source": []
  },
  {
   "cell_type": "code",
   "execution_count": 52,
   "metadata": {},
   "outputs": [
    {
     "name": "stdout",
     "output_type": "stream",
     "text": [
      "x_train_normalize shape: (3583, 28, 28, 3)\n",
      "3583 train_normalize samples\n",
      "896 test_normalize samples\n",
      "y_train_OneHot shape: (3583, 6)\n"
     ]
    }
   ],
   "source": [
    "#%%\n",
    "\n",
    "#batch_size to train\n",
    "batch_size = 32\n",
    "# number of output classes\n",
    "nb_classes = 6\n",
    "# number of epochs to train\n",
    "nb_epoch = 20\n",
    "\n",
    "\n",
    "# number of convolutional filters to use\n",
    "nb_filters = 32\n",
    "# size of pooling area for max pooling\n",
    "nb_pool = 2\n",
    "# convolution kernel size\n",
    "nb_conv = 3\n",
    "\n",
    "#%%\n",
    "(x, y) = (train_data[0],train_data[1])\n",
    "\n",
    "# STEP 1: split X and y into training and testing sets\n",
    "x_train, x_test, y_train, y_test = train_test_split(x, y, test_size=0.2, random_state=4)\n",
    "\n",
    "x_train = x_train.reshape(x_train.shape[0], img_rows, img_cols,3).astype('float32')\n",
    "\n",
    "x_test = x_test.reshape(x_test.shape[0], img_rows, img_cols,3).astype('float32')\n",
    "\n",
    "# 標準化\n",
    "x_train_normalize = x_train / 255\n",
    "x_test_normalize = x_test / 255\n",
    "\n",
    "print('x_train_normalize shape:', x_train_normalize.shape)\n",
    "print(x_train_normalize.shape[0], 'train_normalize samples')\n",
    "print(x_test_normalize.shape[0], 'test_normalize samples')\n",
    "\n",
    "# convert class vectors to binary class matrices Onehote encoding\n",
    "y_train_OneHot = np_utils.to_categorical(y_train, nb_classes)\n",
    "y_test_OneHot = np_utils.to_categorical(y_test, nb_classes)\n",
    "\n",
    "print('y_train_OneHot shape:', y_train_OneHot.shape)"
   ]
  },
  {
   "cell_type": "code",
   "execution_count": 73,
   "metadata": {},
   "outputs": [
    {
     "name": "stdout",
     "output_type": "stream",
     "text": [
      "_________________________________________________________________\n",
      "Layer (type)                 Output Shape              Param #   \n",
      "=================================================================\n",
      "conv2d_9 (Conv2D)            (None, 28, 28, 32)        416       \n",
      "_________________________________________________________________\n",
      "max_pooling2d_9 (MaxPooling2 (None, 14, 14, 32)        0         \n",
      "_________________________________________________________________\n",
      "dropout_14 (Dropout)         (None, 14, 14, 32)        0         \n",
      "_________________________________________________________________\n",
      "conv2d_10 (Conv2D)           (None, 14, 14, 64)        8256      \n",
      "_________________________________________________________________\n",
      "max_pooling2d_10 (MaxPooling (None, 7, 7, 64)          0         \n",
      "_________________________________________________________________\n",
      "dropout_15 (Dropout)         (None, 7, 7, 64)          0         \n",
      "_________________________________________________________________\n",
      "flatten_6 (Flatten)          (None, 3136)              0         \n",
      "_________________________________________________________________\n",
      "dense_11 (Dense)             (None, 1000)              3137000   \n",
      "_________________________________________________________________\n",
      "dropout_16 (Dropout)         (None, 1000)              0         \n",
      "_________________________________________________________________\n",
      "dense_12 (Dense)             (None, 500)               500500    \n",
      "_________________________________________________________________\n",
      "dropout_17 (Dropout)         (None, 500)               0         \n",
      "_________________________________________________________________\n",
      "dense_13 (Dense)             (None, 6)                 3006      \n",
      "=================================================================\n",
      "Total params: 3,649,178\n",
      "Trainable params: 3,649,178\n",
      "Non-trainable params: 0\n",
      "_________________________________________________________________\n",
      "None\n"
     ]
    }
   ],
   "source": [
    "# i = 100\n",
    "# plt.imshow(x_train[i, 0], interpolation='nearest')\n",
    "# print(\"label : \", y_train[i,:])\n",
    "\n",
    "#%%\n",
    "\n",
    "model = Sequential()\n",
    "\n",
    "model.add(Conv2D(nb_filters,\n",
    "                 kernel_size=(2,2),\n",
    "                 padding='same',\n",
    "                 input_shape=( img_rows, img_cols,3),\n",
    "                 activation='relu'))\n",
    "\n",
    "\n",
    "\n",
    "model.add(MaxPooling2D(pool_size=(nb_pool, nb_pool)))\n",
    "model.add(Dropout(0.25))\n",
    "model.add(Conv2D(nb_filters*2,\n",
    "                 kernel_size=(2,2),\n",
    "                 padding='same',\n",
    "                 activation='relu'))\n",
    "\n",
    "\n",
    "\n",
    "model.add(MaxPooling2D(pool_size=(nb_pool, nb_pool)))\n",
    "model.add(Dropout(0.25))\n",
    "model.add(Flatten())\n",
    "model.add(Dense(1000,activation='relu'))\n",
    "model.add(Dropout(0.25))\n",
    "model.add(Dense(500,activation='relu'))\n",
    "model.add(Dropout(0.25))\n",
    "model.add(Dense(nb_classes,activation='softmax'))\n",
    "print(model.summary())"
   ]
  },
  {
   "cell_type": "code",
   "execution_count": 74,
   "metadata": {},
   "outputs": [],
   "source": [
    "model.compile(loss='categorical_crossentropy',\n",
    "              optimizer='adam', metrics=['accuracy'] ) #optimizer='adadelta'\n",
    "\n",
    "# #%%"
   ]
  },
  {
   "cell_type": "code",
   "execution_count": 75,
   "metadata": {},
   "outputs": [
    {
     "name": "stdout",
     "output_type": "stream",
     "text": [
      "800/896 [=========================>....] - ETA: 0s"
     ]
    },
    {
     "data": {
      "text/plain": [
       "0.22209821428571427"
      ]
     },
     "execution_count": 75,
     "metadata": {},
     "output_type": "execute_result"
    }
   ],
   "source": [
    "scores = model.evaluate(x_test_normalize,y_test_OneHot)\n",
    "scores[1]"
   ]
  },
  {
   "cell_type": "code",
   "execution_count": 76,
   "metadata": {},
   "outputs": [
    {
     "name": "stdout",
     "output_type": "stream",
     "text": [
      "Train on 2866 samples, validate on 717 samples\n",
      "Epoch 1/20\n",
      "2866/2866 [==============================] - 3s - loss: 1.4626 - acc: 0.4023 - val_loss: 1.2513 - val_acc: 0.4923\n",
      "Epoch 2/20\n",
      "2866/2866 [==============================] - 3s - loss: 1.1158 - acc: 0.5454 - val_loss: 1.0929 - val_acc: 0.5635\n",
      "Epoch 3/20\n",
      "2866/2866 [==============================] - 3s - loss: 0.9631 - acc: 0.6151 - val_loss: 1.0284 - val_acc: 0.6137\n",
      "Epoch 4/20\n",
      "2866/2866 [==============================] - 3s - loss: 0.9059 - acc: 0.6308 - val_loss: 1.0636 - val_acc: 0.5593\n",
      "Epoch 5/20\n",
      "2866/2866 [==============================] - 3s - loss: 0.8776 - acc: 0.6472 - val_loss: 0.9952 - val_acc: 0.6067\n",
      "Epoch 6/20\n",
      "2866/2866 [==============================] - 3s - loss: 0.7953 - acc: 0.6891 - val_loss: 0.9063 - val_acc: 0.6513\n",
      "Epoch 7/20\n",
      "2866/2866 [==============================] - 3s - loss: 0.7453 - acc: 0.7118 - val_loss: 0.9332 - val_acc: 0.6318\n",
      "Epoch 8/20\n",
      "2866/2866 [==============================] - 3s - loss: 0.7111 - acc: 0.7100 - val_loss: 0.9017 - val_acc: 0.6764\n",
      "Epoch 9/20\n",
      "2866/2866 [==============================] - 3s - loss: 0.6446 - acc: 0.7432 - val_loss: 0.8967 - val_acc: 0.6792\n",
      "Epoch 10/20\n",
      "2866/2866 [==============================] - 3s - loss: 0.6132 - acc: 0.7554 - val_loss: 0.8831 - val_acc: 0.6639\n",
      "Epoch 11/20\n",
      "2866/2866 [==============================] - 3s - loss: 0.6050 - acc: 0.7572 - val_loss: 0.8773 - val_acc: 0.6583\n",
      "Epoch 12/20\n",
      "2866/2866 [==============================] - 3s - loss: 0.5492 - acc: 0.7802 - val_loss: 0.9638 - val_acc: 0.6555\n",
      "Epoch 13/20\n",
      "2866/2866 [==============================] - 3s - loss: 0.5305 - acc: 0.7844 - val_loss: 0.8614 - val_acc: 0.6848\n",
      "Epoch 14/20\n",
      "2866/2866 [==============================] - 3s - loss: 0.4710 - acc: 0.8095 - val_loss: 0.8715 - val_acc: 0.6778\n",
      "Epoch 15/20\n",
      "2866/2866 [==============================] - 3s - loss: 0.4367 - acc: 0.8322 - val_loss: 0.8781 - val_acc: 0.6820\n",
      "Epoch 16/20\n",
      "2866/2866 [==============================] - 3s - loss: 0.3861 - acc: 0.8447 - val_loss: 0.8743 - val_acc: 0.7043\n",
      "Epoch 17/20\n",
      "2866/2866 [==============================] - 3s - loss: 0.3609 - acc: 0.8566 - val_loss: 0.9200 - val_acc: 0.6876\n",
      "Epoch 18/20\n",
      "2866/2866 [==============================] - 3s - loss: 0.3275 - acc: 0.8782 - val_loss: 0.9039 - val_acc: 0.6820\n",
      "Epoch 19/20\n",
      "2866/2866 [==============================] - 3s - loss: 0.3160 - acc: 0.8754 - val_loss: 0.9707 - val_acc: 0.6904\n",
      "Epoch 20/20\n",
      "2866/2866 [==============================] - 3s - loss: 0.2689 - acc: 0.8985 - val_loss: 0.9435 - val_acc: 0.6946\n"
     ]
    }
   ],
   "source": [
    "train_history = model.fit(x_train_normalize, y_train_OneHot,\n",
    "                          validation_split =0.2,\n",
    "                          epochs=20,\n",
    "                          batch_size=100,verbose=1) #show_accuracy=True,validation_data=(x_test, y_test)\n",
    "            \n",
    "            \n",
    "# hist = model.fit(x_train, y_train, batch_size=batch_size, nb_epoch=nb_epoch,\n",
    "#               show_accuracy=True, verbose=1, validation_split=0.2)\n",
    "\n",
    "\n",
    "# # visualizing losses and accuracy\n",
    "\n",
    "# train_loss=hist.history['loss']\n",
    "# val_loss=hist.history['val_loss']\n",
    "# train_acc=hist.history['acc']\n",
    "# val_acc=hist.history['val_acc']\n",
    "# xc=range(nb_epoch)"
   ]
  },
  {
   "cell_type": "code",
   "execution_count": 78,
   "metadata": {
    "collapsed": true
   },
   "outputs": [],
   "source": [
    "# 3.建立show_train_history顯示訓練過程\n",
    "\n",
    "#設定matplotlib在jupyter note網頁內顯示圖形，如果沒設定則會另開視窗顯示\n",
    "%matplotlib inline\n",
    "import matplotlib.pyplot as plt\n",
    "def show_train_history(train_history,train,validation):   # train:訓練資料執行結果 \n",
    "    plt.plot(train_history.history[train])  # train_history:之前訓練過程產生的資料\n",
    "    plt.plot(train_history.history[validation])  # validation:驗證資料的執行結果\n",
    "    plt.title('Train History') # 顯示圖形的標題\n",
    "    plt.ylabel(train) # 顯示y軸的標題\n",
    "    plt.xlabel('Epoch') # 設定x軸標籤是'Epoch'\n",
    "    plt.legend(['train', 'validation'], loc='upper left') # 設定圖例是顯示'train', 'validation'，位置在左上角\n",
    "    plt.show()"
   ]
  },
  {
   "cell_type": "code",
   "execution_count": 79,
   "metadata": {},
   "outputs": [
    {
     "data": {
      "image/png": "[encoded data removed]",
      "text/plain": [
       "<matplotlib.figure.Figure at 0x2f42d780>"
      ]
     },
     "metadata": {},
     "output_type": "display_data"
    }
   ],
   "source": [
    "show_train_history(train_history,'acc','val_acc')"
   ]
  },
  {
   "cell_type": "code",
   "execution_count": 80,
   "metadata": {},
   "outputs": [
    {
     "data": {
      "image/png": "[encoded data removed]",
      "text/plain": [
       "<matplotlib.figure.Figure at 0x2f45ca90>"
      ]
     },
     "metadata": {},
     "output_type": "display_data"
    }
   ],
   "source": [
    "show_train_history(train_history,'loss','val_loss')"
   ]
  },
  {
   "cell_type": "code",
   "execution_count": 81,
   "metadata": {},
   "outputs": [
    {
     "name": "stdout",
     "output_type": "stream",
     "text": [
      "768/896 [========================>.....] - ETA: 0s"
     ]
    }
   ],
   "source": [
    "prediction = model.predict_classes(x_test_normalize)"
   ]
  },
  {
   "cell_type": "code",
   "execution_count": 82,
   "metadata": {},
   "outputs": [
    {
     "data": {
      "text/html": [
       "<div>\n",
       "<style>\n",
       "    .dataframe thead tr:only-child th {\n",
       "        text-align: right;\n",
       "    }\n",
       "\n",
       "    .dataframe thead th {\n",
       "        text-align: left;\n",
       "    }\n",
       "\n",
       "    .dataframe tbody tr th {\n",
       "        vertical-align: top;\n",
       "    }\n",
       "</style>\n",
       "<table border=\"1\" class=\"dataframe\">\n",
       "  <thead>\n",
       "    <tr style=\"text-align: right;\">\n",
       "      <th>predict</th>\n",
       "      <th>0</th>\n",
       "      <th>1</th>\n",
       "      <th>2</th>\n",
       "      <th>3</th>\n",
       "      <th>4</th>\n",
       "      <th>5</th>\n",
       "    </tr>\n",
       "    <tr>\n",
       "      <th>label</th>\n",
       "      <th></th>\n",
       "      <th></th>\n",
       "      <th></th>\n",
       "      <th></th>\n",
       "      <th></th>\n",
       "      <th></th>\n",
       "    </tr>\n",
       "  </thead>\n",
       "  <tbody>\n",
       "    <tr>\n",
       "      <th>0</th>\n",
       "      <td>98</td>\n",
       "      <td>12</td>\n",
       "      <td>10</td>\n",
       "      <td>6</td>\n",
       "      <td>9</td>\n",
       "      <td>18</td>\n",
       "    </tr>\n",
       "    <tr>\n",
       "      <th>1</th>\n",
       "      <td>3</td>\n",
       "      <td>154</td>\n",
       "      <td>1</td>\n",
       "      <td>2</td>\n",
       "      <td>1</td>\n",
       "      <td>1</td>\n",
       "    </tr>\n",
       "    <tr>\n",
       "      <th>2</th>\n",
       "      <td>23</td>\n",
       "      <td>5</td>\n",
       "      <td>81</td>\n",
       "      <td>22</td>\n",
       "      <td>13</td>\n",
       "      <td>3</td>\n",
       "    </tr>\n",
       "    <tr>\n",
       "      <th>3</th>\n",
       "      <td>8</td>\n",
       "      <td>1</td>\n",
       "      <td>35</td>\n",
       "      <td>41</td>\n",
       "      <td>1</td>\n",
       "      <td>4</td>\n",
       "    </tr>\n",
       "    <tr>\n",
       "      <th>4</th>\n",
       "      <td>16</td>\n",
       "      <td>4</td>\n",
       "      <td>9</td>\n",
       "      <td>1</td>\n",
       "      <td>137</td>\n",
       "      <td>4</td>\n",
       "    </tr>\n",
       "    <tr>\n",
       "      <th>5</th>\n",
       "      <td>26</td>\n",
       "      <td>4</td>\n",
       "      <td>9</td>\n",
       "      <td>1</td>\n",
       "      <td>3</td>\n",
       "      <td>130</td>\n",
       "    </tr>\n",
       "  </tbody>\n",
       "</table>\n",
       "</div>"
      ],
      "text/plain": [
       "predict   0    1   2   3    4    5\n",
       "label                             \n",
       "0        98   12  10   6    9   18\n",
       "1         3  154   1   2    1    1\n",
       "2        23    5  81  22   13    3\n",
       "3         8    1  35  41    1    4\n",
       "4        16    4   9   1  137    4\n",
       "5        26    4   9   1    3  130"
      ]
     },
     "execution_count": 82,
     "metadata": {},
     "output_type": "execute_result"
    }
   ],
   "source": [
    "import pandas as pd\n",
    "pd.crosstab(y_test,prediction,\n",
    "            rownames=['label'],colnames=['predict'])"
   ]
  },
  {
   "cell_type": "code",
   "execution_count": null,
   "metadata": {},
   "outputs": [],
   "source": []
  },
  {
   "cell_type": "code",
   "execution_count": null,
   "metadata": {
    "collapsed": true
   },
   "outputs": [],
   "source": []
  },
  {
   "cell_type": "code",
   "execution_count": null,
   "metadata": {
    "collapsed": true
   },
   "outputs": [],
   "source": [
    "###############################\n",
    "#                             #\n",
    "#          DEMO_05            #\n",
    "#                             #\n",
    "###############################\n",
    "\n",
    "# 解bug\n",
    "# Python：IOError: image file is truncated 的解决办法\n",
    "from PIL import ImageFile\n",
    "ImageFile.LOAD_TRUNCATED_IMAGES = True # 解bug\n",
    "from keras.preprocessing.image import ImageDataGenerator\n",
    "import numpy as np\n",
    "from keras.utils import np_utils\n",
    "from keras.models import Sequential\n",
    "from keras.layers import Dense,Dropout,Flatten,Conv2D,MaxPooling2D\n",
    "\n",
    "#############################################################################################\n",
    "train_data_dir = 'D:/Dataset/test/train'\n",
    "validation_data_dir = 'D:/Dataset/test/validation'\n",
    "nb_train_samples = 4480\n",
    "nb_validation_samples = 1120\n",
    "epochs = 50 # 迭代\n",
    "batch_size = 100\n",
    "##################################################################\n",
    "train_datagen = ImageDataGenerator(\n",
    "        rescale=1./255,\n",
    "        shear_range=0.2,\n",
    "        zoom_range=0.2,\n",
    "        horizontal_flip=True)\n",
    "test_datagen = ImageDataGenerator(rescale=1./255)\n",
    "\n",
    "train_generator = train_datagen.flow_from_directory(\n",
    "        train_data_dir,\n",
    "        target_size=(56, 56),\n",
    "        batch_size=100,\n",
    "        class_mode='categorical')\n",
    "\n",
    "validation_generator = test_datagen.flow_from_directory(\n",
    "        validation_data_dir,\n",
    "        target_size=(56, 56),\n",
    "        batch_size=100,\n",
    "        class_mode='categorical')\n",
    "\n",
    "##################################################################\n",
    "\n",
    "print(train_generator.class_indices)  # 印出標籤\n",
    "print(validation_generator.class_indices)  # 印出標籤\n",
    "\n",
    "##################################################################\n",
    "\n",
    "model = Sequential() # 建立model\n",
    "\n",
    "##################################################################\n",
    "\n",
    "# 加入卷積層1\n",
    "model.add(Conv2D(filters=32, kernel_size = (2,2),   # 32個3*3濾鏡\n",
    "                 input_shape = (56,56,3),   # 圖片大小&三原色\n",
    "                 activation = 'relu',\n",
    "                 padding = 'same' # 經過此層影像大小不變\n",
    "                 ) \n",
    "         )\n",
    "\n",
    "# 控制overfit\n",
    "model.add(Dropout(rate=0.25))    \n",
    "\n",
    "# 加入池化層1\n",
    "model.add(MaxPooling2D(pool_size=(2,2))) \n",
    "\n",
    "##################################################################\n",
    "\n",
    "# 加入卷積層2\n",
    "model.add(Conv2D(filters=80, kernel_size = (2,2),   # 64個3*3濾鏡\n",
    "                 activation = 'relu',\n",
    "                 padding = 'same' # 經過此層影像大小不變\n",
    "                 ) \n",
    "         )\n",
    "\n",
    "\n",
    "# 控制overfit\n",
    "model.add(Dropout(rate=0.25))          \n",
    "\n",
    "\n",
    "\n",
    "# 加入池化層2\n",
    "model.add(MaxPooling2D(pool_size=(2,2))) \n",
    "\n",
    "##################################################################\n",
    "# 加入平坦層\n",
    "model.add(Flatten()) #28*28*64\n",
    "\n",
    "\n",
    "# 控制overfit\n",
    "model.add(Dropout(rate=0.25))    \n",
    "\n",
    "\n",
    "##################################################################\n",
    "\n",
    "# 加入隱藏層\n",
    "model.add(Dense(1000, activation = 'relu'))\n",
    "\n",
    "\n",
    "# 控制overfit\n",
    "model.add(Dropout(rate=0.25))    \n",
    "\n",
    "##################################################################\n",
    "\n",
    "# 建立輸出層\n",
    "model.add(Dense(6, activation = 'softmax'))\n",
    "\n",
    "##################################################################\n",
    "\n",
    "# 查看模型摘要\n",
    "print(model.summary())\n",
    "\n",
    "model.compile(loss = 'categorical_crossentropy',  # 損失函數\n",
    "                  optimizer = 'adam',                 # 最優化方法\n",
    "                  metrics = ['accuracy'])             # 以準確率評估\n",
    "\n",
    "train_history = model.fit_generator(\n",
    "                    train_generator,\n",
    "                    steps_per_epoch=nb_train_samples // batch_size, # 第16次迭代停下\n",
    "                    epochs=50,\n",
    "                    validation_data=validation_generator,\n",
    "                    validation_steps= nb_validation_samples // batch_size)\n",
    "\n",
    "%matplotlib inline\n",
    "import matplotlib.pyplot as plt\n",
    "def show_train_history(train_history,train,validation):   # train:訓練資料執行結果 \n",
    "    plt.plot(train_history.history[train])  # train_history:之前訓練過程產生的資料\n",
    "    plt.plot(train_history.history[validation])  # validation:驗證資料的執行結果\n",
    "    plt.title('Train History') # 顯示圖形的標題\n",
    "    plt.ylabel(train) # 顯示y軸的標題\n",
    "    plt.xlabel('Epoch') # 設定x軸標籤是'Epoch'\n",
    "    plt.legend(['train', 'validation'], loc='upper left') # 設定圖例是顯示'train', 'validation'，位置在左上角\n",
    "    plt.show()\n",
    "show_train_history(train_history,'acc','val_acc')\n",
    "\n",
    "#########################################################################################\n",
    "\n",
    "# 過程問題: 建立資料集，輸入資料集，演算法選擇，層數問題，圖片大小問題，三原色... etc(待補)    \n",
    "# 問題: 太慢                                                                            \n",
    "# 問題: 演算法未優化                                                                      \n",
    "# 問題: 只用了四種                                                                      \n",
    "# 問題: size是否有問題                                                                  \n",
    "# 問題: 迭代次數太少   "
   ]
  }
 ],
 "metadata": {
  "kernelspec": {
   "display_name": "Python 3",
   "language": "python",
   "name": "python3"
  },
  "language_info": {
   "codemirror_mode": {
    "name": "ipython",
    "version": 3
   },
   "file_extension": ".py",
   "mimetype": "text/x-python",
   "name": "python",
   "nbconvert_exporter": "python",
   "pygments_lexer": "ipython3",
   "version": "3.6.1"
  }
 },
 "nbformat": 4,
 "nbformat_minor": 2
}
